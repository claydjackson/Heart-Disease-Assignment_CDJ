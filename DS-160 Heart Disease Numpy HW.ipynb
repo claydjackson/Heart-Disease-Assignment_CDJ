{
 "cells": [
  {
   "cell_type": "code",
   "execution_count": 1,
   "id": "a7e08c88",
   "metadata": {},
   "outputs": [],
   "source": [
    "import numpy as np"
   ]
  },
  {
   "cell_type": "code",
   "execution_count": 2,
   "id": "ed0a5dd6",
   "metadata": {},
   "outputs": [],
   "source": [
    "data=data=np.genfromtxt(\"heart.csv\", delimiter=\",\", skip_header=True)"
   ]
  },
  {
   "cell_type": "code",
   "execution_count": 3,
   "id": "f2a57103",
   "metadata": {},
   "outputs": [
    {
     "data": {
      "text/plain": [
       "array([[63.,  1.,  3., ...,  0.,  1.,  1.],\n",
       "       [37.,  1.,  2., ...,  0.,  2.,  1.],\n",
       "       [41.,  0.,  1., ...,  0.,  2.,  1.],\n",
       "       ...,\n",
       "       [68.,  1.,  0., ...,  2.,  3.,  0.],\n",
       "       [57.,  1.,  0., ...,  1.,  3.,  0.],\n",
       "       [57.,  0.,  1., ...,  1.,  2.,  0.]])"
      ]
     },
     "execution_count": 3,
     "metadata": {},
     "output_type": "execute_result"
    }
   ],
   "source": [
    "data"
   ]
  },
  {
   "cell_type": "markdown",
   "id": "1feb1aeb",
   "metadata": {},
   "source": [
    "# Question: What is the relationship between age, sex, trestbps and cholesterol? "
   ]
  },
  {
   "cell_type": "code",
   "execution_count": 4,
   "id": "4e5c05f8",
   "metadata": {},
   "outputs": [],
   "source": [
    "age=data[:,0]"
   ]
  },
  {
   "cell_type": "code",
   "execution_count": 5,
   "id": "32191da4",
   "metadata": {},
   "outputs": [],
   "source": [
    "sex=data[:,1]"
   ]
  },
  {
   "cell_type": "code",
   "execution_count": 6,
   "id": "568f8e38",
   "metadata": {},
   "outputs": [],
   "source": [
    "chol=data[:,4]"
   ]
  },
  {
   "cell_type": "code",
   "execution_count": 7,
   "id": "a17cc975",
   "metadata": {},
   "outputs": [],
   "source": [
    "trest=data[:,3]"
   ]
  },
  {
   "cell_type": "code",
   "execution_count": 25,
   "id": "595b55bf",
   "metadata": {},
   "outputs": [],
   "source": [
    "cp=data[:,2]"
   ]
  },
  {
   "cell_type": "markdown",
   "id": "a277b06c",
   "metadata": {},
   "source": [
    "# Descriptive Statistics"
   ]
  },
  {
   "cell_type": "code",
   "execution_count": 8,
   "id": "45b4d1f3",
   "metadata": {},
   "outputs": [
    {
     "name": "stdout",
     "output_type": "stream",
     "text": [
      "---Basic Descriptive statistics on Age---\n",
      "Mean: 54\n",
      "Median: 55\n",
      "Standard Deviation: 9\n",
      "Minimum: 29.0\n",
      "Maximum: 77.0\n"
     ]
    }
   ],
   "source": [
    "# age\n",
    "print(\"---Basic Descriptive statistics on Age---\")\n",
    "print(f\"Mean: {round(np.mean(age))}\")\n",
    "print(f\"Median: {round(np.median(age))}\")\n",
    "print(f\"Standard Deviation: {round(np.std(age))}\")\n",
    "print(f\"Minimum: {np.min(age)}\")\n",
    "print(f\"Maximum: {np.max(age)}\")"
   ]
  },
  {
   "cell_type": "code",
   "execution_count": 9,
   "id": "5a154e35",
   "metadata": {},
   "outputs": [
    {
     "name": "stdout",
     "output_type": "stream",
     "text": [
      "---Basic Descriptive statistics on Trestbps---\n",
      "Mean: 132\n",
      "Median: 130\n",
      "Standard Deviation: 18\n",
      "Minimum: 94.0\n",
      "Maximum: 200.0\n"
     ]
    }
   ],
   "source": [
    "# trest\n",
    "print(\"---Basic Descriptive statistics on Trestbps---\")\n",
    "print(f\"Mean: {round(np.mean(trest))}\")\n",
    "print(f\"Median: {round(np.median(trest))}\")\n",
    "print(f\"Standard Deviation: {round(np.std(trest))}\")\n",
    "print(f\"Minimum: {np.min(trest)}\")\n",
    "print(f\"Maximum: {np.max(trest)}\")"
   ]
  },
  {
   "cell_type": "code",
   "execution_count": 10,
   "id": "9aad99e4",
   "metadata": {},
   "outputs": [
    {
     "name": "stdout",
     "output_type": "stream",
     "text": [
      "---Basic Descriptive statistics on Cholestrol---\n",
      "Mean: 246\n",
      "Median: 240\n",
      "Standard Deviation: 52\n",
      "Minimum: 126.0\n",
      "Maximum: 564.0\n"
     ]
    }
   ],
   "source": [
    "# chol\n",
    "print(\"---Basic Descriptive statistics on Cholestrol---\")\n",
    "print(f\"Mean: {round(np.mean(chol))}\")\n",
    "print(f\"Median: {round(np.median(chol))}\")\n",
    "print(f\"Standard Deviation: {round(np.std(chol))}\")\n",
    "print(f\"Minimum: {np.min(chol)}\")\n",
    "print(f\"Maximum: {np.max(chol)}\")"
   ]
  },
  {
   "cell_type": "markdown",
   "id": "ffff0183",
   "metadata": {},
   "source": [
    "Data Filtering"
   ]
  },
  {
   "cell_type": "code",
   "execution_count": 11,
   "id": "9d00fc1b",
   "metadata": {},
   "outputs": [
    {
     "name": "stdout",
     "output_type": "stream",
     "text": [
      "Number of rows before filtering: 303\n"
     ]
    }
   ],
   "source": [
    "print(f\"Number of rows before filtering: {len(data)}\")"
   ]
  },
  {
   "cell_type": "code",
   "execution_count": 32,
   "id": "315c990a",
   "metadata": {},
   "outputs": [
    {
     "name": "stdout",
     "output_type": "stream",
     "text": [
      "Number of rows after filtering for males: 207\n"
     ]
    }
   ],
   "source": [
    "male_data=data[(sex==1)]\n",
    "print(f\"Number of rows after filtering for males: {len(male_data)}\")"
   ]
  },
  {
   "cell_type": "code",
   "execution_count": 33,
   "id": "0bf1c9e5",
   "metadata": {},
   "outputs": [
    {
     "name": "stdout",
     "output_type": "stream",
     "text": [
      "Number of rows after filtering for females: 96\n"
     ]
    }
   ],
   "source": [
    "female_data=data[(sex==0)]\n",
    "print(f\"Number of rows after filtering for females: {len(female_data)}\")"
   ]
  },
  {
   "cell_type": "code",
   "execution_count": 15,
   "id": "eecc26d9",
   "metadata": {},
   "outputs": [
    {
     "name": "stdout",
     "output_type": "stream",
     "text": [
      "The number of people who have high cholestrol: 253\n"
     ]
    }
   ],
   "source": [
    "# High Chol is >=200\n",
    "high_chol=data[(chol>=200)]\n",
    "print(f\"The number of people who have high cholestrol: {len(high_chol)}\")"
   ]
  },
  {
   "cell_type": "code",
   "execution_count": 34,
   "id": "6d381584",
   "metadata": {},
   "outputs": [
    {
     "name": "stdout",
     "output_type": "stream",
     "text": [
      "The number of males with high cholestrol: 171\n"
     ]
    }
   ],
   "source": [
    "high_chol_man=data[(chol>=200) & (sex==1)]\n",
    "print(f\"The number of males with high cholestrol: {len(high_chol_man)}\")"
   ]
  },
  {
   "cell_type": "code",
   "execution_count": 35,
   "id": "93ef7bfc",
   "metadata": {},
   "outputs": [
    {
     "name": "stdout",
     "output_type": "stream",
     "text": [
      "The number of females with high cholestrol: 82\n"
     ]
    }
   ],
   "source": [
    "high_chol_female=data[(chol>=200) & (sex==0)]\n",
    "print(f\"The number of females with high cholestrol: {len(high_chol_female)}\")"
   ]
  },
  {
   "cell_type": "code",
   "execution_count": 19,
   "id": "bc5bbf74",
   "metadata": {},
   "outputs": [
    {
     "name": "stdout",
     "output_type": "stream",
     "text": [
      "The number of people who have high cholestrol: 97\n"
     ]
    }
   ],
   "source": [
    "# high_trestbps >=140\n",
    "high_trest=data[(trest>=140)]\n",
    "print(f\"The number of people who have high cholestrol: {len(high_trest)}\")"
   ]
  },
  {
   "cell_type": "code",
   "execution_count": 36,
   "id": "4684ad1d",
   "metadata": {},
   "outputs": [
    {
     "name": "stdout",
     "output_type": "stream",
     "text": [
      "The number of males who have high cholestrol: 65\n"
     ]
    }
   ],
   "source": [
    "high_trest_male=data[(trest>=140) & (sex==1)]\n",
    "print(f\"The number of males who have high cholestrol: {len(high_trest_male)}\")"
   ]
  },
  {
   "cell_type": "code",
   "execution_count": 37,
   "id": "c339d9c4",
   "metadata": {},
   "outputs": [
    {
     "name": "stdout",
     "output_type": "stream",
     "text": [
      "The number of females who have high cholestrol: 32\n"
     ]
    }
   ],
   "source": [
    "high_trest_female=data[(trest>=140) & (sex==0)]\n",
    "print(f\"The number of females who have high cholestrol: {len(high_trest_female)}\")"
   ]
  },
  {
   "cell_type": "code",
   "execution_count": 40,
   "id": "a5455ded",
   "metadata": {},
   "outputs": [
    {
     "name": "stdout",
     "output_type": "stream",
     "text": [
      "The number of people who have angina: 23\n",
      "The number of people who do not have angina: 280\n",
      "The number of males who have angina: 19\n",
      "The number of females who have angina: 4\n"
     ]
    }
   ],
   "source": [
    "#Chest Pain: \n",
    "# 3 = typical angina (angina constant chest pain/discomfort that is a symptom of cornaey cardiac disease)\n",
    "\n",
    "high_cp=data[(cp==3)]\n",
    "print(f\"The number of people who have angina: {len(high_cp)}\")\n",
    "low_cp=data[(cp<3)]\n",
    "print(f\"The number of people who do not have angina: {len(low_cp)}\")\n",
    "male_cp=data[(cp==3) & (sex==1)]\n",
    "print(f\"The number of males who have angina: {len(male_cp)}\")\n",
    "female_cp=data[(cp==3) & (sex==0)]\n",
    "print(f\"The number of females who have angina: {len(female_cp)}\")"
   ]
  },
  {
   "cell_type": "code",
   "execution_count": 50,
   "id": "a4e82372",
   "metadata": {},
   "outputs": [
    {
     "name": "stdout",
     "output_type": "stream",
     "text": [
      "The number of people over 50 are: 215\n",
      "The number of people younger than 50 are: 88\n",
      "The number of people over 50 and have high chol are are: 187\n"
     ]
    }
   ],
   "source": [
    "# Data Filtering for Age\n",
    "old_age=data[(age>=50)]\n",
    "print(f\"The number of people over 50 are: {len(old_age)}\")\n",
    "young_age=data[(age<50)]\n",
    "print(f\"The number of people younger than 50 are: {len(young_age)}\")\n",
    "old_age_chol=data[(age>=50 ) & (chol>=200)]\n",
    "print(f\"The number of people over 50 and have high chol are are: {len(old_age_chol)}\")"
   ]
  },
  {
   "cell_type": "markdown",
   "id": "6485f209",
   "metadata": {},
   "source": [
    "# Correlation"
   ]
  },
  {
   "cell_type": "code",
   "execution_count": 43,
   "id": "f8c68909",
   "metadata": {},
   "outputs": [
    {
     "name": "stdout",
     "output_type": "stream",
     "text": [
      "Corr age and chol is: [[1.         0.21367796]\n",
      " [0.21367796 1.        ]]\n"
     ]
    }
   ],
   "source": [
    "# Age & Cholestrol\n",
    "\n",
    "corr_age_chol=np.corrcoef(age,chol,rowvar=False)\n",
    "print(f\"Corr age and chol is: {corr_age_chol}\")"
   ]
  },
  {
   "cell_type": "code",
   "execution_count": 44,
   "id": "cc60c738",
   "metadata": {},
   "outputs": [
    {
     "name": "stdout",
     "output_type": "stream",
     "text": [
      "Corr age and trest is: [[1.         0.27935091]\n",
      " [0.27935091 1.        ]]\n"
     ]
    }
   ],
   "source": [
    "# Age & Trestbps\n",
    "\n",
    "corr_age_trest=np.corrcoef(age,trest,rowvar=False)\n",
    "print(f\"Corr age and trest is: {corr_age_trest}\")"
   ]
  },
  {
   "cell_type": "code",
   "execution_count": 45,
   "id": "bdb6c8c0",
   "metadata": {},
   "outputs": [
    {
     "name": "stdout",
     "output_type": "stream",
     "text": [
      "Corr age and chest pain is: [[ 1.         -0.06865302]\n",
      " [-0.06865302  1.        ]]\n"
     ]
    }
   ],
   "source": [
    "# Age & Chest Pain\n",
    "\n",
    "corr_age_cp=np.corrcoef(age,cp,rowvar=False)\n",
    "print(f\"Corr age and chest pain is: {corr_age_cp}\")"
   ]
  },
  {
   "cell_type": "code",
   "execution_count": 47,
   "id": "f54851e6",
   "metadata": {},
   "outputs": [
    {
     "name": "stdout",
     "output_type": "stream",
     "text": [
      "Corr cholestrol and trestbps is: [[1.         0.12317421]\n",
      " [0.12317421 1.        ]]\n"
     ]
    }
   ],
   "source": [
    "# Cholestrol & Trestbps\n",
    "\n",
    "corr_chol_trest=np.corrcoef(chol,trest,rowvar=False)\n",
    "print(f\"Corr cholestrol and trestbps is: {corr_chol_trest}\")"
   ]
  },
  {
   "cell_type": "code",
   "execution_count": 48,
   "id": "bc3f8d1d",
   "metadata": {},
   "outputs": [
    {
     "name": "stdout",
     "output_type": "stream",
     "text": [
      "Corr cholestrol and chest pain is: [[ 1.         -0.07690439]\n",
      " [-0.07690439  1.        ]]\n"
     ]
    }
   ],
   "source": [
    "# Cholestrol & Chest pain\n",
    "\n",
    "corr_chol_cp=np.corrcoef(chol,cp,rowvar=False)\n",
    "print(f\"Corr cholestrol and chest pain is: {corr_chol_cp}\")"
   ]
  },
  {
   "cell_type": "code",
   "execution_count": 49,
   "id": "24e23fd9",
   "metadata": {},
   "outputs": [
    {
     "name": "stdout",
     "output_type": "stream",
     "text": [
      "Corr cholestrol and chest pain is: [[1.         0.04760776]\n",
      " [0.04760776 1.        ]]\n"
     ]
    }
   ],
   "source": [
    "# Trest BPS & Chest pain\n",
    "\n",
    "corr_trest_cp=np.corrcoef(cp,trest,rowvar=False)\n",
    "print(f\"Corr cholestrol and chest pain is: {corr_trest_cp}\")"
   ]
  },
  {
   "cell_type": "markdown",
   "id": "09d0fa0f",
   "metadata": {},
   "source": [
    "\n"
   ]
  },
  {
   "cell_type": "markdown",
   "id": "d01c87e7",
   "metadata": {},
   "source": [
    "# Summary"
   ]
  },
  {
   "cell_type": "markdown",
   "id": "d49f1037",
   "metadata": {},
   "source": [
    "### We used age, sex, cholestrol, trestbps, and chestpain as our vaules. We used descriptive statistics, filtered data, and correlation. For this data set, it was more useful to use data filtering rather than correlation. We found little to no correlation between any of our five variables. However, we did discover, via filtering that more men had high cholesterol, trest, and chest pain then women. Howver, there were many more men in this study. So, we decided to not just look at the raw number, but the percentage by gender of high cholesterol. 82% of men in the study had high cholestrol. Whereas, 85% of women had high cholestrol."
   ]
  },
  {
   "cell_type": "code",
   "execution_count": null,
   "id": "aad646d9",
   "metadata": {},
   "outputs": [],
   "source": []
  }
 ],
 "metadata": {
  "kernelspec": {
   "display_name": "Python 3 (ipykernel)",
   "language": "python",
   "name": "python3"
  },
  "language_info": {
   "codemirror_mode": {
    "name": "ipython",
    "version": 3
   },
   "file_extension": ".py",
   "mimetype": "text/x-python",
   "name": "python",
   "nbconvert_exporter": "python",
   "pygments_lexer": "ipython3",
   "version": "3.9.13"
  }
 },
 "nbformat": 4,
 "nbformat_minor": 5
}
